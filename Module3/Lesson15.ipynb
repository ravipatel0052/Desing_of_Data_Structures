{
  "nbformat": 4,
  "nbformat_minor": 0,
  "metadata": {
    "colab": {
      "provenance": [],
      "authorship_tag": "ABX9TyNvfmciuWdsx9juTjYcueNa",
      "include_colab_link": true
    },
    "kernelspec": {
      "name": "python3",
      "display_name": "Python 3"
    },
    "language_info": {
      "name": "python"
    }
  },
  "cells": [
    {
      "cell_type": "markdown",
      "metadata": {
        "id": "view-in-github",
        "colab_type": "text"
      },
      "source": [
        "<a href=\"https://colab.research.google.com/github/ravipatel0052/Desing_of_Data_Structures/blob/main/Module3/Lesson15.ipynb\" target=\"_parent\"><img src=\"https://colab.research.google.com/assets/colab-badge.svg\" alt=\"Open In Colab\"/></a>"
      ]
    },
    {
      "cell_type": "markdown",
      "source": [
        "# **Linked List**"
      ],
      "metadata": {
        "id": "D5wbyyqLof7W"
      }
    },
    {
      "cell_type": "markdown",
      "source": [
        "**What is linked list :**\n",
        "\n",
        "* A linked list does not store its elements in consecutive memory locations and\n",
        "the user can add any number of elements to it.\n",
        "\n",
        "* However, unlike an array, a linked list does not allow random access of data.\n",
        "\n",
        "* Elements in a linked list can be accessed only in a sequential manner. But like\n",
        "an array, insertions and deletions can be done at any point in the list in a\n",
        "constant time.\n",
        "\n",
        "* A linked list, in simple terms, is a linear collection of data elements. These data\n",
        "elements are called nodes.\n",
        "\n",
        "**\"A Linked List is a linear data structure where elements (called nodes) are not stored in contiguous memory locations. Each node contains:\"**\n",
        "\n",
        "* Data (value)\n",
        "\n",
        "* Pointer (link) to the next node\n",
        "\n"
      ],
      "metadata": {
        "id": "shXah0AUox4b"
      }
    },
    {
      "cell_type": "markdown",
      "source": [
        "**Types of Linked Lists:**\n",
        "\n",
        "1. *Singly Linked List* :-\tEach node points to the next node only\n",
        "\n",
        "2. *Doubly Linked List* :-\tEach node points to both previous and next nodes\n",
        "\n",
        "3. *Circular Linked List* :-\tLast node points back to the first node\n",
        "\n",
        "4. *Circular Doubly Linked List* :-\tCombines both circular and doubly linked list"
      ],
      "metadata": {
        "id": "p7XloImYqoEn"
      }
    },
    {
      "cell_type": "markdown",
      "source": [
        "**Representation of Linked List in Memory**\n",
        "\n"
      ],
      "metadata": {
        "id": "LErQDiMSsghQ"
      }
    },
    {
      "cell_type": "code",
      "source": [
        "struct Node {\n",
        "    int data;\n",
        "    struct Node* next;\n",
        "};"
      ],
      "metadata": {
        "id": "aSDbyCuptCzy"
      },
      "execution_count": null,
      "outputs": []
    },
    {
      "cell_type": "code",
      "source": [
        "Memory Representation Diagram (Singly Linked List):\n",
        "\n",
        "+-------+-------+      +-------+-------+      +-------+--------+\n",
        "|  10   |  *----|----> |  20   |  *----|----> |  30   |  NULL  |\n",
        "+-------+-------+      +-------+-------+      +-------+--------+\n",
        "   ^                      ^                      ^\n",
        "  [Node1]               [Node2]               [Node3]\n",
        "\n",
        "  Each node contains:\n",
        "\n",
        "     1. Data (e.g., 10, 20, 30)\n",
        "\n",
        "     2. Pointer to the next node in memory (non-contiguous)\n"
      ],
      "metadata": {
        "id": "yGDG6YCgtGSO"
      },
      "execution_count": null,
      "outputs": []
    },
    {
      "cell_type": "markdown",
      "source": [
        "**Dynamic Memory Allocation**\n",
        "\n",
        "Unlike arrays (which use static memory allocation), linked lists use dynamic memory allocation:\n",
        "\n",
        "* Nodes are created at runtime using malloc() in C or new in Java.\n",
        "\n",
        "* Memory is allocated in the heap section of RAM."
      ],
      "metadata": {
        "id": "gpAabLsctcCG"
      }
    },
    {
      "cell_type": "code",
      "source": [
        "struct Node* newNode = (struct Node*) malloc(sizeof(struct Node));\n",
        "newNode->data = 5;\n",
        "newNode->next = NULL;"
      ],
      "metadata": {
        "id": "UU2oOMdltqbc"
      },
      "execution_count": null,
      "outputs": []
    },
    {
      "cell_type": "markdown",
      "source": [
        "**What is Garbage Collection?**\n",
        "\n",
        "Garbage Collection is the process of automatically freeing memory no longer in use, so it can be reused for future allocations.\n",
        "\n",
        "**In C:**\n",
        "\n",
        " Manual memory management\n",
        "\n",
        "* You must free memory manually using free()\n",
        "\n",
        "* If not, it leads to memory leaks\n",
        "\n",
        "\n",
        "\n",
        "```\n",
        "free(node);\n",
        "```\n",
        "\n",
        "\n"
      ],
      "metadata": {
        "id": "99EfKDX0tuY3"
      }
    },
    {
      "cell_type": "markdown",
      "source": [
        "**Advantages of Linked Lists**\n",
        "\n",
        "* Dynamic size\n",
        "\n",
        "* Efficient insertion/deletion (O(1)) at beginning or middle\n",
        "\n",
        "* No memory wastage like in arrays\n",
        "\n",
        "**Disadvantages**\n",
        "\n",
        "* No random access (unlike arrays)\n",
        "\n",
        "* Extra memory for pointers\n",
        "\n",
        "* Sequential access only"
      ],
      "metadata": {
        "id": "MlVn7XjsuaH3"
      }
    }
  ]
}